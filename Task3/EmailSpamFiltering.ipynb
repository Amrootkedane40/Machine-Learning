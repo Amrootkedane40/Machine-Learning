{
 "cells": [
  {
   "cell_type": "markdown",
   "id": "b431736e-f746-460f-be51-a55c9013385d",
   "metadata": {},
   "source": [
    "### EMAIL SPAM FIlTERING"
   ]
  },
  {
   "cell_type": "markdown",
   "id": "f728ce10-6299-4593-92e1-e32542ab7553",
   "metadata": {
    "tags": []
   },
   "source": [
    "### 1. Import All Necessary Libraries"
   ]
  },
  {
   "cell_type": "code",
   "execution_count": 46,
   "id": "a32c30f8-695d-4393-8e8f-d41e9ac0df82",
   "metadata": {},
   "outputs": [],
   "source": [
    "import numpy as np\n",
    "import matplotlib.pyplot as plt\n",
    "import pandas as pd\n",
    "from sklearn.model_selection import train_test_split\n",
    "from sklearn.feature_extraction.text import TfidfVectorizer\n",
    "from sklearn.metrics import accuracy_score"
   ]
  },
  {
   "cell_type": "markdown",
   "id": "86750ae4-1ee9-4266-862e-6256ff524393",
   "metadata": {
    "tags": []
   },
   "source": [
    "### 2. Load the Dataset"
   ]
  },
  {
   "cell_type": "code",
   "execution_count": 5,
   "id": "088515c1-0ffe-42f0-ad09-9966de2cee86",
   "metadata": {},
   "outputs": [
    {
     "data": {
      "text/html": [
       "<div>\n",
       "<style scoped>\n",
       "    .dataframe tbody tr th:only-of-type {\n",
       "        vertical-align: middle;\n",
       "    }\n",
       "\n",
       "    .dataframe tbody tr th {\n",
       "        vertical-align: top;\n",
       "    }\n",
       "\n",
       "    .dataframe thead th {\n",
       "        text-align: right;\n",
       "    }\n",
       "</style>\n",
       "<table border=\"1\" class=\"dataframe\">\n",
       "  <thead>\n",
       "    <tr style=\"text-align: right;\">\n",
       "      <th></th>\n",
       "      <th>v1</th>\n",
       "      <th>v2</th>\n",
       "      <th>Unnamed: 2</th>\n",
       "      <th>Unnamed: 3</th>\n",
       "      <th>Unnamed: 4</th>\n",
       "    </tr>\n",
       "  </thead>\n",
       "  <tbody>\n",
       "    <tr>\n",
       "      <th>0</th>\n",
       "      <td>ham</td>\n",
       "      <td>Go until jurong point, crazy.. Available only ...</td>\n",
       "      <td>NaN</td>\n",
       "      <td>NaN</td>\n",
       "      <td>NaN</td>\n",
       "    </tr>\n",
       "    <tr>\n",
       "      <th>1</th>\n",
       "      <td>ham</td>\n",
       "      <td>Ok lar... Joking wif u oni...</td>\n",
       "      <td>NaN</td>\n",
       "      <td>NaN</td>\n",
       "      <td>NaN</td>\n",
       "    </tr>\n",
       "    <tr>\n",
       "      <th>2</th>\n",
       "      <td>spam</td>\n",
       "      <td>Free entry in 2 a wkly comp to win FA Cup fina...</td>\n",
       "      <td>NaN</td>\n",
       "      <td>NaN</td>\n",
       "      <td>NaN</td>\n",
       "    </tr>\n",
       "    <tr>\n",
       "      <th>3</th>\n",
       "      <td>ham</td>\n",
       "      <td>U dun say so early hor... U c already then say...</td>\n",
       "      <td>NaN</td>\n",
       "      <td>NaN</td>\n",
       "      <td>NaN</td>\n",
       "    </tr>\n",
       "    <tr>\n",
       "      <th>4</th>\n",
       "      <td>ham</td>\n",
       "      <td>Nah I don't think he goes to usf, he lives aro...</td>\n",
       "      <td>NaN</td>\n",
       "      <td>NaN</td>\n",
       "      <td>NaN</td>\n",
       "    </tr>\n",
       "  </tbody>\n",
       "</table>\n",
       "</div>"
      ],
      "text/plain": [
       "     v1                                                 v2 Unnamed: 2  \\\n",
       "0   ham  Go until jurong point, crazy.. Available only ...        NaN   \n",
       "1   ham                      Ok lar... Joking wif u oni...        NaN   \n",
       "2  spam  Free entry in 2 a wkly comp to win FA Cup fina...        NaN   \n",
       "3   ham  U dun say so early hor... U c already then say...        NaN   \n",
       "4   ham  Nah I don't think he goes to usf, he lives aro...        NaN   \n",
       "\n",
       "  Unnamed: 3 Unnamed: 4  \n",
       "0        NaN        NaN  \n",
       "1        NaN        NaN  \n",
       "2        NaN        NaN  \n",
       "3        NaN        NaN  \n",
       "4        NaN        NaN  "
      ]
     },
     "execution_count": 5,
     "metadata": {},
     "output_type": "execute_result"
    }
   ],
   "source": [
    "data=pd.read_csv('spam.csv',encoding='latin-1')\n",
    "data.head()"
   ]
  },
  {
   "cell_type": "markdown",
   "id": "a601406b-398e-4989-a4ab-d345862fbfa6",
   "metadata": {
    "tags": []
   },
   "source": [
    "### 3. Data Cleaning"
   ]
  },
  {
   "cell_type": "code",
   "execution_count": 22,
   "id": "c5baf8c0-0662-4b49-abb7-384a42c0733c",
   "metadata": {},
   "outputs": [
    {
     "name": "stdout",
     "output_type": "stream",
     "text": [
      "<class 'pandas.core.frame.DataFrame'>\n",
      "RangeIndex: 5572 entries, 0 to 5571\n",
      "Data columns (total 5 columns):\n",
      " #   Column      Non-Null Count  Dtype \n",
      "---  ------      --------------  ----- \n",
      " 0   v1          5572 non-null   object\n",
      " 1   v2          5572 non-null   object\n",
      " 2   Unnamed: 2  50 non-null     object\n",
      " 3   Unnamed: 3  12 non-null     object\n",
      " 4   Unnamed: 4  6 non-null      object\n",
      "dtypes: object(5)\n",
      "memory usage: 217.8+ KB\n"
     ]
    }
   ],
   "source": [
    "# All the values are categorical.\n",
    "data.info()"
   ]
  },
  {
   "cell_type": "code",
   "execution_count": 23,
   "id": "7d4ac187-5540-4a96-b226-d454ba461aee",
   "metadata": {},
   "outputs": [
    {
     "name": "stdout",
     "output_type": "stream",
     "text": [
      "Number of rows: 5572\n",
      "Number of columns: 5\n"
     ]
    }
   ],
   "source": [
    "print(\"Number of rows:\",data.shape[0])\n",
    "print(\"Number of columns:\",data.shape[1])"
   ]
  },
  {
   "cell_type": "markdown",
   "id": "fa0c6aad-b76a-4068-824b-23070b0d38bb",
   "metadata": {},
   "source": [
    "Since most of the values in the last 3 columns are missing so we are going to remove it."
   ]
  },
  {
   "cell_type": "code",
   "execution_count": 26,
   "id": "e42b7b7e-e2df-461f-94f7-81be340055d3",
   "metadata": {},
   "outputs": [
    {
     "data": {
      "text/plain": [
       "v1             0.000000\n",
       "v2             0.000000\n",
       "Unnamed: 2    99.102656\n",
       "Unnamed: 3    99.784637\n",
       "Unnamed: 4    99.892319\n",
       "dtype: float64"
      ]
     },
     "execution_count": 26,
     "metadata": {},
     "output_type": "execute_result"
    }
   ],
   "source": [
    "data.isnull().sum()/data.shape[0]*100"
   ]
  },
  {
   "cell_type": "code",
   "execution_count": 39,
   "id": "1e352581-40bb-4809-8250-4242d5023ce4",
   "metadata": {},
   "outputs": [
    {
     "name": "stderr",
     "output_type": "stream",
     "text": [
      "C:\\Users\\SUMEET SAJJAN\\AppData\\Local\\Temp\\ipykernel_14440\\1552264077.py:2: SettingWithCopyWarning: \n",
      "A value is trying to be set on a copy of a slice from a DataFrame\n",
      "\n",
      "See the caveats in the documentation: https://pandas.pydata.org/pandas-docs/stable/user_guide/indexing.html#returning-a-view-versus-a-copy\n",
      "  new_data.rename(columns={\"v1\":\"target\",\"v2\":\"mail\"},inplace=True)\n"
     ]
    },
    {
     "data": {
      "text/html": [
       "<div>\n",
       "<style scoped>\n",
       "    .dataframe tbody tr th:only-of-type {\n",
       "        vertical-align: middle;\n",
       "    }\n",
       "\n",
       "    .dataframe tbody tr th {\n",
       "        vertical-align: top;\n",
       "    }\n",
       "\n",
       "    .dataframe thead th {\n",
       "        text-align: right;\n",
       "    }\n",
       "</style>\n",
       "<table border=\"1\" class=\"dataframe\">\n",
       "  <thead>\n",
       "    <tr style=\"text-align: right;\">\n",
       "      <th></th>\n",
       "      <th>target</th>\n",
       "      <th>mail</th>\n",
       "    </tr>\n",
       "  </thead>\n",
       "  <tbody>\n",
       "    <tr>\n",
       "      <th>0</th>\n",
       "      <td>ham</td>\n",
       "      <td>Go until jurong point, crazy.. Available only ...</td>\n",
       "    </tr>\n",
       "    <tr>\n",
       "      <th>1</th>\n",
       "      <td>ham</td>\n",
       "      <td>Ok lar... Joking wif u oni...</td>\n",
       "    </tr>\n",
       "    <tr>\n",
       "      <th>2</th>\n",
       "      <td>spam</td>\n",
       "      <td>Free entry in 2 a wkly comp to win FA Cup fina...</td>\n",
       "    </tr>\n",
       "    <tr>\n",
       "      <th>3</th>\n",
       "      <td>ham</td>\n",
       "      <td>U dun say so early hor... U c already then say...</td>\n",
       "    </tr>\n",
       "    <tr>\n",
       "      <th>4</th>\n",
       "      <td>ham</td>\n",
       "      <td>Nah I don't think he goes to usf, he lives aro...</td>\n",
       "    </tr>\n",
       "  </tbody>\n",
       "</table>\n",
       "</div>"
      ],
      "text/plain": [
       "  target                                               mail\n",
       "0    ham  Go until jurong point, crazy.. Available only ...\n",
       "1    ham                      Ok lar... Joking wif u oni...\n",
       "2   spam  Free entry in 2 a wkly comp to win FA Cup fina...\n",
       "3    ham  U dun say so early hor... U c already then say...\n",
       "4    ham  Nah I don't think he goes to usf, he lives aro..."
      ]
     },
     "execution_count": 39,
     "metadata": {},
     "output_type": "execute_result"
    }
   ],
   "source": [
    "new_data=data[['v1','v2']]\n",
    "new_data.rename(columns={\"v1\":\"target\",\"v2\":\"mail\"},inplace=True)\n",
    "new_data.head(5)\n",
    "\n",
    "#We rename the column aaccording to our need."
   ]
  },
  {
   "cell_type": "markdown",
   "id": "f040f3a1-cfc0-4cae-9a36-e6d791dce7ab",
   "metadata": {
    "tags": []
   },
   "source": [
    "### 4. EDA"
   ]
  },
  {
   "cell_type": "code",
   "execution_count": null,
   "id": "0e86e260-67d6-4ffc-a71e-1478981009ce",
   "metadata": {},
   "outputs": [
    {
     "data": {
      "text/plain": [
       "ham     86.593683\n",
       "spam    13.406317\n",
       "Name: target, dtype: float64"
      ]
     },
     "execution_count": 43,
     "metadata": {},
     "output_type": "execute_result"
    }
   ],
   "source": [
    "new_data['target'].value_counts()/new_data.shape[0]*100"
   ]
  },
  {
   "cell_type": "markdown",
   "id": "1e309947-230f-4703-ac16-2ed4bd88883a",
   "metadata": {},
   "source": [
    "ham: trusty mails 86.6%    \n",
    "spam: untrusty mails 13.41%"
   ]
  },
  {
   "cell_type": "code",
   "execution_count": 56,
   "id": "3a1d5332-a34e-4e09-b2af-147a18454523",
   "metadata": {},
   "outputs": [
    {
     "data": {
      "image/png": "[encoded data removed]",
      "text/plain": [
       "<Figure size 400x400 with 1 Axes>"
      ]
     },
     "metadata": {},
     "output_type": "display_data"
    }
   ],
   "source": [
    "#Visualzing the target column.\n",
    "category_counts=new_data['target'].value_counts()\n",
    "\n",
    "plt.figure(figsize=(4,4))\n",
    "plt.pie(category_counts,labels=category_counts.index,autopct='%1.1f%%',startangle=80)\n",
    "plt.title(\"Distribution of SPAM and HAM\")\n",
    "plt.show()"
   ]
  },
  {
   "cell_type": "code",
   "execution_count": 58,
   "id": "57427cec-b179-43f7-9b9a-100496095f59",
   "metadata": {},
   "outputs": [
    {
     "name": "stderr",
     "output_type": "stream",
     "text": [
      "C:\\Users\\SUMEET SAJJAN\\AppData\\Local\\Temp\\ipykernel_14440\\3476419771.py:2: SettingWithCopyWarning: \n",
      "A value is trying to be set on a copy of a slice from a DataFrame\n",
      "\n",
      "See the caveats in the documentation: https://pandas.pydata.org/pandas-docs/stable/user_guide/indexing.html#returning-a-view-versus-a-copy\n",
      "  new_data.loc[new_data['target']=='spam','target',]=0\n",
      "C:\\Users\\SUMEET SAJJAN\\AppData\\Local\\Temp\\ipykernel_14440\\3476419771.py:3: SettingWithCopyWarning: \n",
      "A value is trying to be set on a copy of a slice from a DataFrame\n",
      "\n",
      "See the caveats in the documentation: https://pandas.pydata.org/pandas-docs/stable/user_guide/indexing.html#returning-a-view-versus-a-copy\n",
      "  new_data.loc[new_data['target']=='ham','target',]=1\n"
     ]
    },
    {
     "data": {
      "text/html": [
       "<div>\n",
       "<style scoped>\n",
       "    .dataframe tbody tr th:only-of-type {\n",
       "        vertical-align: middle;\n",
       "    }\n",
       "\n",
       "    .dataframe tbody tr th {\n",
       "        vertical-align: top;\n",
       "    }\n",
       "\n",
       "    .dataframe thead th {\n",
       "        text-align: right;\n",
       "    }\n",
       "</style>\n",
       "<table border=\"1\" class=\"dataframe\">\n",
       "  <thead>\n",
       "    <tr style=\"text-align: right;\">\n",
       "      <th></th>\n",
       "      <th>target</th>\n",
       "      <th>mail</th>\n",
       "    </tr>\n",
       "  </thead>\n",
       "  <tbody>\n",
       "    <tr>\n",
       "      <th>0</th>\n",
       "      <td>1</td>\n",
       "      <td>Go until jurong point, crazy.. Available only ...</td>\n",
       "    </tr>\n",
       "    <tr>\n",
       "      <th>1</th>\n",
       "      <td>1</td>\n",
       "      <td>Ok lar... Joking wif u oni...</td>\n",
       "    </tr>\n",
       "    <tr>\n",
       "      <th>2</th>\n",
       "      <td>0</td>\n",
       "      <td>Free entry in 2 a wkly comp to win FA Cup fina...</td>\n",
       "    </tr>\n",
       "    <tr>\n",
       "      <th>3</th>\n",
       "      <td>1</td>\n",
       "      <td>U dun say so early hor... U c already then say...</td>\n",
       "    </tr>\n",
       "    <tr>\n",
       "      <th>4</th>\n",
       "      <td>1</td>\n",
       "      <td>Nah I don't think he goes to usf, he lives aro...</td>\n",
       "    </tr>\n",
       "    <tr>\n",
       "      <th>5</th>\n",
       "      <td>0</td>\n",
       "      <td>FreeMsg Hey there darling it's been 3 week's n...</td>\n",
       "    </tr>\n",
       "  </tbody>\n",
       "</table>\n",
       "</div>"
      ],
      "text/plain": [
       "  target                                               mail\n",
       "0      1  Go until jurong point, crazy.. Available only ...\n",
       "1      1                      Ok lar... Joking wif u oni...\n",
       "2      0  Free entry in 2 a wkly comp to win FA Cup fina...\n",
       "3      1  U dun say so early hor... U c already then say...\n",
       "4      1  Nah I don't think he goes to usf, he lives aro...\n",
       "5      0  FreeMsg Hey there darling it's been 3 week's n..."
      ]
     },
     "execution_count": 58,
     "metadata": {},
     "output_type": "execute_result"
    }
   ],
   "source": [
    "#Label Encoding\n",
    "new_data.loc[new_data['target']=='spam','target',]=0\n",
    "new_data.loc[new_data['target']=='ham','target',]=1\n",
    "\n",
    "new_data.head(6)"
   ]
  },
  {
   "cell_type": "markdown",
   "id": "1a29d5cb-57e6-4edb-b6a1-4f4a7b1c2912",
   "metadata": {},
   "source": [
    "Done with target column."
   ]
  },
  {
   "cell_type": "code",
   "execution_count": 67,
   "id": "670831cc-9579-451a-95fc-7e670ff9ba23",
   "metadata": {},
   "outputs": [],
   "source": [
    "# Splitting the dataset.\n",
    "X_train,X_test,Y_train,y_test=train_test_split(new_data.mail,new_data.target,test_size=0.2,random_state=42)"
   ]
  },
  {
   "cell_type": "code",
   "execution_count": 69,
   "id": "ca11cb24-b3a9-4917-8872-cfc0b0372f36",
   "metadata": {},
   "outputs": [],
   "source": [
    "# Mail data to feature vectors.\n",
    "\n",
    "feature_vector=TfidfVectorizer(min_df=1,stop_words='english',lowercase=True)\n",
    "Xtrain_features=feature_vector.fit_transform(X_train)\n",
    "Xtest_features=feature_vector.transform(X_test)\n",
    "\n",
    "#convert y values as integer.\n",
    "Y_train=Y_train.astype('int')\n",
    "y_test=y_test.astype('int')"
   ]
  },
  {
   "cell_type": "code",
   "execution_count": 74,
   "id": "9a2f734f-e6a8-4d4e-b38b-caf68ddcf9f5",
   "metadata": {},
   "outputs": [
    {
     "name": "stdout",
     "output_type": "stream",
     "text": [
      "  (0, 7229)\t0.2947064107791228\n",
      "  (0, 6816)\t0.4006242977875035\n",
      "  (0, 4543)\t0.38197308370768035\n",
      "  (0, 3752)\t0.1718556592061185\n",
      "  (0, 3457)\t0.3500886226408095\n",
      "  (0, 3239)\t0.34299776014114036\n",
      "  (0, 2974)\t0.34299776014114036\n",
      "  (0, 2679)\t0.3500886226408095\n",
      "  (0, 1756)\t0.31111329907426943\n",
      "  (1, 6607)\t0.27039238853977376\n",
      "  (1, 6604)\t0.19484478334547534\n",
      "  (1, 5812)\t0.22078293973996208\n",
      "  (1, 5744)\t0.35520030142077386\n",
      "  (1, 5739)\t0.35520030142077386\n",
      "  (1, 5738)\t0.25559165628741076\n",
      "  (1, 5532)\t0.33866381848750327\n",
      "  (1, 4760)\t0.29866169283344046\n",
      "  (1, 3716)\t0.3178303138520559\n",
      "  (1, 2651)\t0.3269309971271071\n",
      "  (1, 1970)\t0.2461378627103295\n",
      "  (1, 1934)\t0.22392171769600464\n",
      "  (2, 5075)\t0.4020147546075029\n",
      "  (2, 4106)\t0.5120683436791947\n",
      "  (2, 3835)\t0.4855870501823454\n",
      "  (2, 2707)\t0.4882288103453305\n",
      "  :\t:\n",
      "  (1110, 4022)\t0.191596066847086\n",
      "  (1110, 3363)\t0.3742235014841453\n",
      "  (1110, 3174)\t0.19113154928290435\n",
      "  (1110, 2651)\t0.3742235014841453\n",
      "  (1110, 2148)\t0.301483654608874\n",
      "  (1110, 1869)\t0.3876535449194833\n",
      "  (1110, 1745)\t0.3876535449194833\n",
      "  (1110, 1599)\t0.27571108916401915\n",
      "  (1110, 1533)\t0.2553888613819584\n",
      "  (1110, 1290)\t0.2786297663784045\n",
      "  (1111, 4435)\t0.28908947793418216\n",
      "  (1111, 2451)\t0.3367130616672642\n",
      "  (1111, 1459)\t0.4550535681498989\n",
      "  (1111, 1012)\t0.4772732005778383\n",
      "  (1111, 503)\t0.4772732005778383\n",
      "  (1111, 268)\t0.37469777419250544\n",
      "  (1112, 7404)\t0.4289846764490662\n",
      "  (1112, 6561)\t0.6933358898870733\n",
      "  (1112, 4362)\t0.5790142409011977\n",
      "  (1113, 2362)\t1.0\n",
      "  (1114, 5073)\t0.39613661729871547\n",
      "  (1114, 4580)\t0.5231241609003211\n",
      "  (1114, 1408)\t0.3874225337880653\n",
      "  (1114, 1309)\t0.5418979155552347\n",
      "  (1114, 305)\t0.35449587042389225\n"
     ]
    }
   ],
   "source": [
    "print(Xtest_features)"
   ]
  },
  {
   "cell_type": "markdown",
   "id": "83ef058b-e07f-4351-bb62-eb4e58b5a5dc",
   "metadata": {
    "tags": []
   },
   "source": [
    "### 5. Model Training"
   ]
  },
  {
   "cell_type": "markdown",
   "id": "63693439-3436-428b-aabd-e05aa6429fb9",
   "metadata": {
    "tags": []
   },
   "source": [
    "### a. Import libraries"
   ]
  },
  {
   "cell_type": "code",
   "execution_count": 107,
   "id": "cc3959a7-3ae9-4b3b-907d-7f9da85747ad",
   "metadata": {},
   "outputs": [
    {
     "name": "stdout",
     "output_type": "stream",
     "text": [
      "Collecting xgboost\n",
      "  Downloading xgboost-2.0.0-py3-none-win_amd64.whl (99.7 MB)\n",
      "     -------------------------------------- 99.7/99.7 MB 466.5 kB/s eta 0:00:00\n",
      "Requirement already satisfied: scipy in c:\\anacondaod\\lib\\site-packages (from xgboost) (1.10.0)\n",
      "Requirement already satisfied: numpy in c:\\anacondaod\\lib\\site-packages (from xgboost) (1.23.5)\n",
      "Installing collected packages: xgboost\n",
      "Successfully installed xgboost-2.0.0\n"
     ]
    }
   ],
   "source": [
    "!pip install xgboost\n",
    "from sklearn.linear_model import LogisticRegression\n",
    "from sklearn.ensemble import RandomForestClassifier\n",
    "from sklearn.naive_bayes import MultinomialNB\n",
    "import xgboost as xgb"
   ]
  },
  {
   "cell_type": "markdown",
   "id": "9e88427a-07c3-4395-8190-3dc57288ec78",
   "metadata": {
    "tags": []
   },
   "source": [
    "### b. Model Object"
   ]
  },
  {
   "cell_type": "code",
   "execution_count": 112,
   "id": "6914388d-d03c-4641-9b33-3dffce792220",
   "metadata": {},
   "outputs": [],
   "source": [
    "LRmodel=LogisticRegression()\n",
    "RFmodel=RandomForestClassifier()\n",
    "MNBmodel=MultinomialNB()\n",
    "XGBmodel=xgb.XGBClassifier()"
   ]
  },
  {
   "cell_type": "markdown",
   "id": "14b84b17-d3d8-4547-8fe3-ca7b6ccdcfb0",
   "metadata": {
    "tags": []
   },
   "source": [
    "### c. Model Fitting"
   ]
  },
  {
   "cell_type": "code",
   "execution_count": 113,
   "id": "fb1a3243-b901-4b9f-964d-2aba819765a9",
   "metadata": {},
   "outputs": [
    {
     "data": {
      "text/html": [
       "<style>#sk-container-id-5 {color: black;background-color: white;}#sk-container-id-5 pre{padding: 0;}#sk-container-id-5 div.sk-toggleable {background-color: white;}#sk-container-id-5 label.sk-toggleable__label {cursor: pointer;display: block;width: 100%;margin-bottom: 0;padding: 0.3em;box-sizing: border-box;text-align: center;}#sk-container-id-5 label.sk-toggleable__label-arrow:before {content: \"▸\";float: left;margin-right: 0.25em;color: #696969;}#sk-container-id-5 label.sk-toggleable__label-arrow:hover:before {color: black;}#sk-container-id-5 div.sk-estimator:hover label.sk-toggleable__label-arrow:before {color: black;}#sk-container-id-5 div.sk-toggleable__content {max-height: 0;max-width: 0;overflow: hidden;text-align: left;background-color: #f0f8ff;}#sk-container-id-5 div.sk-toggleable__content pre {margin: 0.2em;color: black;border-radius: 0.25em;background-color: #f0f8ff;}#sk-container-id-5 input.sk-toggleable__control:checked~div.sk-toggleable__content {max-height: 200px;max-width: 100%;overflow: auto;}#sk-container-id-5 input.sk-toggleable__control:checked~label.sk-toggleable__label-arrow:before {content: \"▾\";}#sk-container-id-5 div.sk-estimator input.sk-toggleable__control:checked~label.sk-toggleable__label {background-color: #d4ebff;}#sk-container-id-5 div.sk-label input.sk-toggleable__control:checked~label.sk-toggleable__label {background-color: #d4ebff;}#sk-container-id-5 input.sk-hidden--visually {border: 0;clip: rect(1px 1px 1px 1px);clip: rect(1px, 1px, 1px, 1px);height: 1px;margin: -1px;overflow: hidden;padding: 0;position: absolute;width: 1px;}#sk-container-id-5 div.sk-estimator {font-family: monospace;background-color: #f0f8ff;border: 1px dotted black;border-radius: 0.25em;box-sizing: border-box;margin-bottom: 0.5em;}#sk-container-id-5 div.sk-estimator:hover {background-color: #d4ebff;}#sk-container-id-5 div.sk-parallel-item::after {content: \"\";width: 100%;border-bottom: 1px solid gray;flex-grow: 1;}#sk-container-id-5 div.sk-label:hover label.sk-toggleable__label {background-color: #d4ebff;}#sk-container-id-5 div.sk-serial::before {content: \"\";position: absolute;border-left: 1px solid gray;box-sizing: border-box;top: 0;bottom: 0;left: 50%;z-index: 0;}#sk-container-id-5 div.sk-serial {display: flex;flex-direction: column;align-items: center;background-color: white;padding-right: 0.2em;padding-left: 0.2em;position: relative;}#sk-container-id-5 div.sk-item {position: relative;z-index: 1;}#sk-container-id-5 div.sk-parallel {display: flex;align-items: stretch;justify-content: center;background-color: white;position: relative;}#sk-container-id-5 div.sk-item::before, #sk-container-id-5 div.sk-parallel-item::before {content: \"\";position: absolute;border-left: 1px solid gray;box-sizing: border-box;top: 0;bottom: 0;left: 50%;z-index: -1;}#sk-container-id-5 div.sk-parallel-item {display: flex;flex-direction: column;z-index: 1;position: relative;background-color: white;}#sk-container-id-5 div.sk-parallel-item:first-child::after {align-self: flex-end;width: 50%;}#sk-container-id-5 div.sk-parallel-item:last-child::after {align-self: flex-start;width: 50%;}#sk-container-id-5 div.sk-parallel-item:only-child::after {width: 0;}#sk-container-id-5 div.sk-dashed-wrapped {border: 1px dashed gray;margin: 0 0.4em 0.5em 0.4em;box-sizing: border-box;padding-bottom: 0.4em;background-color: white;}#sk-container-id-5 div.sk-label label {font-family: monospace;font-weight: bold;display: inline-block;line-height: 1.2em;}#sk-container-id-5 div.sk-label-container {text-align: center;}#sk-container-id-5 div.sk-container {/* jupyter's `normalize.less` sets `[hidden] { display: none; }` but bootstrap.min.css set `[hidden] { display: none !important; }` so we also need the `!important` here to be able to override the default hidden behavior on the sphinx rendered scikit-learn.org. See: https://github.com/scikit-learn/scikit-learn/issues/21755 */display: inline-block !important;position: relative;}#sk-container-id-5 div.sk-text-repr-fallback {display: none;}</style><div id=\"sk-container-id-5\" class=\"sk-top-container\"><div class=\"sk-text-repr-fallback\"><pre>XGBClassifier(base_score=None, booster=None, callbacks=None,\n",
       "              colsample_bylevel=None, colsample_bynode=None,\n",
       "              colsample_bytree=None, device=None, early_stopping_rounds=None,\n",
       "              enable_categorical=False, eval_metric=None, feature_types=None,\n",
       "              gamma=None, grow_policy=None, importance_type=None,\n",
       "              interaction_constraints=None, learning_rate=None, max_bin=None,\n",
       "              max_cat_threshold=None, max_cat_to_onehot=None,\n",
       "              max_delta_step=None, max_depth=None, max_leaves=None,\n",
       "              min_child_weight=None, missing=nan, monotone_constraints=None,\n",
       "              multi_strategy=None, n_estimators=None, n_jobs=None,\n",
       "              num_parallel_tree=None, random_state=None, ...)</pre><b>In a Jupyter environment, please rerun this cell to show the HTML representation or trust the notebook. <br />On GitHub, the HTML representation is unable to render, please try loading this page with nbviewer.org.</b></div><div class=\"sk-container\" hidden><div class=\"sk-item\"><div class=\"sk-estimator sk-toggleable\"><input class=\"sk-toggleable__control sk-hidden--visually\" id=\"sk-estimator-id-5\" type=\"checkbox\" checked><label for=\"sk-estimator-id-5\" class=\"sk-toggleable__label sk-toggleable__label-arrow\">XGBClassifier</label><div class=\"sk-toggleable__content\"><pre>XGBClassifier(base_score=None, booster=None, callbacks=None,\n",
       "              colsample_bylevel=None, colsample_bynode=None,\n",
       "              colsample_bytree=None, device=None, early_stopping_rounds=None,\n",
       "              enable_categorical=False, eval_metric=None, feature_types=None,\n",
       "              gamma=None, grow_policy=None, importance_type=None,\n",
       "              interaction_constraints=None, learning_rate=None, max_bin=None,\n",
       "              max_cat_threshold=None, max_cat_to_onehot=None,\n",
       "              max_delta_step=None, max_depth=None, max_leaves=None,\n",
       "              min_child_weight=None, missing=nan, monotone_constraints=None,\n",
       "              multi_strategy=None, n_estimators=None, n_jobs=None,\n",
       "              num_parallel_tree=None, random_state=None, ...)</pre></div></div></div></div></div>"
      ],
      "text/plain": [
       "XGBClassifier(base_score=None, booster=None, callbacks=None,\n",
       "              colsample_bylevel=None, colsample_bynode=None,\n",
       "              colsample_bytree=None, device=None, early_stopping_rounds=None,\n",
       "              enable_categorical=False, eval_metric=None, feature_types=None,\n",
       "              gamma=None, grow_policy=None, importance_type=None,\n",
       "              interaction_constraints=None, learning_rate=None, max_bin=None,\n",
       "              max_cat_threshold=None, max_cat_to_onehot=None,\n",
       "              max_delta_step=None, max_depth=None, max_leaves=None,\n",
       "              min_child_weight=None, missing=nan, monotone_constraints=None,\n",
       "              multi_strategy=None, n_estimators=None, n_jobs=None,\n",
       "              num_parallel_tree=None, random_state=None, ...)"
      ]
     },
     "execution_count": 113,
     "metadata": {},
     "output_type": "execute_result"
    }
   ],
   "source": [
    "LRmodel.fit(Xtrain_features,Y_train)\n",
    "RFmodel.fit(Xtrain_features,Y_train)\n",
    "MNBmodel.fit(Xtrain_features,Y_train)\n",
    "XGBmodel.fit(Xtrain_features,Y_train)"
   ]
  },
  {
   "cell_type": "code",
   "execution_count": 90,
   "id": "15b9e7cc-5689-4eb7-9b86-273060e5dbca",
   "metadata": {},
   "outputs": [],
   "source": [
    "def model_prediction(model,X,Y):\n",
    "    prediction_train=model.predict(X)\n",
    "    return accuracy_score(Y,prediction_train)    "
   ]
  },
  {
   "cell_type": "markdown",
   "id": "a4834f89-7c26-435d-84a4-78717c3fc931",
   "metadata": {
    "tags": []
   },
   "source": [
    "### i) Logistic Regression"
   ]
  },
  {
   "cell_type": "code",
   "execution_count": 94,
   "id": "91aedb98-adc5-4212-91e6-5137abcc878c",
   "metadata": {},
   "outputs": [
    {
     "name": "stdout",
     "output_type": "stream",
     "text": [
      "Model Train Accuracy: 0.9694862014808167\n",
      "Model Test Accuracy: 0.9524663677130045\n"
     ]
    }
   ],
   "source": [
    "print(\"Model Train Accuracy:\",model_prediction(LRmodel,Xtrain_features,Y_train))\n",
    "print(\"Model Test Accuracy:\",model_prediction(LRmodel,Xtest_features,y_test))"
   ]
  },
  {
   "cell_type": "markdown",
   "id": "79d7a8ab-f266-4561-bd0d-7e9c4fc6b469",
   "metadata": {
    "tags": []
   },
   "source": [
    "### ii) Random Forest"
   ]
  },
  {
   "cell_type": "code",
   "execution_count": 101,
   "id": "dc1155aa-9bf7-443f-a5ad-198939d1f239",
   "metadata": {},
   "outputs": [
    {
     "name": "stdout",
     "output_type": "stream",
     "text": [
      "Model Train Accuracy: 1.0\n",
      "Model Test Accuracy: 0.97847533632287\n"
     ]
    }
   ],
   "source": [
    "print(\"Model Train Accuracy:\",model_prediction(RFmodel,Xtrain_features,Y_train))\n",
    "print(\"Model Test Accuracy:\",model_prediction(RFmodel,Xtest_features,y_test))"
   ]
  },
  {
   "cell_type": "markdown",
   "id": "467f5f0d-1900-47bd-9ed4-d3194bccb2a5",
   "metadata": {
    "tags": []
   },
   "source": [
    "### iii) MultiNominal Naive Bayes"
   ]
  },
  {
   "cell_type": "code",
   "execution_count": 105,
   "id": "46834073-1ade-4597-bad8-ac2c6db38854",
   "metadata": {},
   "outputs": [
    {
     "name": "stdout",
     "output_type": "stream",
     "text": [
      "Model Train Accuracy: 0.9838456360780794\n",
      "Model Test Accuracy: 0.9668161434977578\n"
     ]
    }
   ],
   "source": [
    "print(\"Model Train Accuracy:\",model_prediction(MNBmodel,Xtrain_features,Y_train))\n",
    "print(\"Model Test Accuracy:\",model_prediction(MNBmodel,Xtest_features,y_test))"
   ]
  },
  {
   "cell_type": "markdown",
   "id": "3656e54e-d5d2-43ec-9189-6010d8adf5ac",
   "metadata": {
    "tags": []
   },
   "source": [
    "### iv) XGBoost Classifier"
   ]
  },
  {
   "cell_type": "code",
   "execution_count": 114,
   "id": "cf683639-f2c5-4261-8eaa-3a063e05f782",
   "metadata": {},
   "outputs": [
    {
     "name": "stdout",
     "output_type": "stream",
     "text": [
      "Model Train Accuracy: 0.9921471842046219\n",
      "Model Test Accuracy: 0.9713004484304932\n"
     ]
    }
   ],
   "source": [
    "print(\"Model Train Accuracy:\",model_prediction(XGBmodel,Xtrain_features,Y_train))\n",
    "print(\"Model Test Accuracy:\",model_prediction(XGBmodel,Xtest_features,y_test))"
   ]
  },
  {
   "cell_type": "markdown",
   "id": "ebed68d3-f647-47d1-ab5f-258d11bd4ec5",
   "metadata": {},
   "source": [
    "Therefore, RandomForest giving us the highest result."
   ]
  },
  {
   "cell_type": "markdown",
   "id": "bfbc87b0-c0d0-41e2-803f-fdbb384b3793",
   "metadata": {},
   "source": [
    "### 6. Prediction"
   ]
  },
  {
   "cell_type": "code",
   "execution_count": 125,
   "id": "e20268f0-7e46-4a9b-8d93-f61d3592b809",
   "metadata": {},
   "outputs": [],
   "source": [
    "def prediction(f_v,mail,model):\n",
    "    input_feature_vectors=f_v.transform(mail)\n",
    "    if(model.predict(input_feature_vectors)): print(f\"{mail} is not a SPAM\")\n",
    "    else: print(f\"{mail} is a SPAM \")"
   ]
  },
  {
   "cell_type": "code",
   "execution_count": 127,
   "id": "b52fadc5-c133-4fb7-abc9-968cef069a62",
   "metadata": {},
   "outputs": [
    {
     "name": "stdout",
     "output_type": "stream",
     "text": [
      "['Urgent your grandson was arrested last night in Mexico. Need bail money immediately.'] is a SPAM \n",
      "['Can you lend me some money'] is not a SPAM\n"
     ]
    }
   ],
   "source": [
    "mail1=['Urgent your grandson was arrested last night in Mexico. Need bail money immediately.']\n",
    "mail2=['Can you lend me some money']\n",
    "\n",
    "prediction(feature_vector,mail1,RFmodel)\n",
    "prediction(feature_vector,mail2,RFmodel)\n"
   ]
  },
  {
   "cell_type": "markdown",
   "id": "c96277a7-6180-46a5-a7a7-165d7e00ede7",
   "metadata": {},
   "source": [
    "### Thank You"
   ]
  },
  {
   "cell_type": "code",
   "execution_count": null,
   "id": "260934ad-53b8-414e-8f2b-203b401ef71a",
   "metadata": {},
   "outputs": [],
   "source": []
  }
 ],
 "metadata": {
  "kernelspec": {
   "display_name": "Python 3 (ipykernel)",
   "language": "python",
   "name": "python3"
  },
  "language_info": {
   "codemirror_mode": {
    "name": "ipython",
    "version": 3
   },
   "file_extension": ".py",
   "mimetype": "text/x-python",
   "name": "python",
   "nbconvert_exporter": "python",
   "pygments_lexer": "ipython3",
   "version": "3.10.9"
  }
 },
 "nbformat": 4,
 "nbformat_minor": 5
}
